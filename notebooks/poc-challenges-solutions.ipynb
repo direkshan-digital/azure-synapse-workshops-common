{
  "metadata": {
    "saveOutput": true,
    "language_info": {
      "name": "python"
    }
  },
  "nbformat": 4,
  "nbformat_minor": 2,
  "cells": [
    {
      "cell_type": "markdown",
      "metadata": {},
      "source": [
        "# The CSV file challenge\n",
        ""
      ],
      "attachments": {}
    },
    {
      "cell_type": "code",
      "execution_count": 4,
      "outputs": [],
      "metadata": {},
      "source": [
        "import numpy as np\n",
        "import pandas as pd\n",
        "pd.options.display.max_columns = None"
      ],
      "attachments": {}
    },
    {
      "cell_type": "code",
      "execution_count": 5,
      "outputs": [],
      "metadata": {},
      "source": [
        "from azure.storage.blob import BlockBlobService\n",
        "block_blob_service = BlockBlobService(\n",
        " account_name='asadatalake01', account_key='c9QiMiFm2v44KQD0+g+gnDArV7/Kw5UO/+3EIsELimWy+n2hAxOMxS2ZuMN88nYIsx24cJqN4kWrKk/PgteMww==')\n",
        "file_content = block_blob_service.get_blob_to_text('wwi-02', 'sale-poc/sale-20170502.csv')"
      ],
      "attachments": {}
    },
    {
      "cell_type": "code",
      "execution_count": 6,
      "outputs": [
        {
          "output_type": "execute_result",
          "data": {
            "text/plain": "Found 10573487 tokens in content."
          },
          "execution_count": 6,
          "metadata": {}
        }
      ],
      "metadata": {},
      "source": [
        "\n",
        "tokens = file_content.content.split(',')\n",
        " \n",
        "print(f'Found {len(tokens)} tokens in content.')\n",
        ""
      ],
      "attachments": {}
    },
    {
      "cell_type": "code",
      "execution_count": 7,
      "outputs": [
        {
          "output_type": "execute_result",
          "data": {
            "text/plain": "['586682a8-db73-4e45-a376-c7553a44b248', '2', '610', '4', '35.790000000000000000', '157.4760000000000127151622564', '20170502', '53.63600000000000433075797446', '23', '17', '9559', '586682a8-db73-4e45-a376-c7553a44b248', '2', '1321', '3', '22.080000000000000000', '72.86400000000000588329385209', '20170502', '19.66800000000000158806301442', '23']"
          },
          "execution_count": 7,
          "metadata": {}
        }
      ],
      "metadata": {},
      "source": [
        "[tokens[i] for i in np.arange(0, 10)] \n",
        "[tokens[i] for i in np.arange(0, 15)] \n",
        "[tokens[i] for i in np.arange(0, 20)] "
      ],
      "attachments": {}
    },
    {
      "cell_type": "code",
      "execution_count": 8,
      "outputs": [],
      "metadata": {},
      "source": [
        "row_list = []\n",
        " \n",
        "max_index = 11\n",
        "while max_index <= len(tokens):\n",
        " \n",
        " row = [tokens[i] for i in np.arange(max_index - 11, max_index)] \n",
        " row_list.append(row)\n",
        " \n",
        " max_index += 11"
      ],
      "attachments": {}
    },
    {
      "cell_type": "code",
      "execution_count": 10,
      "outputs": [
        {
          "output_type": "execute_result",
          "data": {
            "text/plain": "[['586682a8-db73-4e45-a376-c7553a44b248', '2', '610', '4', '35.790000000000000000', '157.4760000000000127151622564', '20170502', '53.63600000000000433075797446', '23', '17', '9559'], ['586682a8-db73-4e45-a376-c7553a44b248', '2', '1321', '3', '22.080000000000000000', '72.86400000000000588329385209', '20170502', '19.66800000000000158806301442', '23', '17', '9559'], ['586682a8-db73-4e45-a376-c7553a44b248', '2', '4364', '1', '16.150000000000000000', '17.76500000000000143440814782', '20170502', '5.896000000000000476063632959', '23', '17', '9559'], ['586682a8-db73-4e45-a376-c7553a44b248', '2', '4691', '2', '35.840000000000000000', '78.84800000000000636646291241', '20170502', '24.20000000000000195399252334', '23', '17', '9559'], ['586682a8-db73-4e45-a376-c7553a44b248', '2', '4691', '3', '35.840000000000000000', '118.2720000000000095496943686', '20170502', '36.30000000000000293098878501', '23', '17', '9559'], ['586682a8-db73-4e45-a376-c7553a44b248', '2', '2392', '1', '32.900000000000000000', '36.19000000000000292210700081', '20170502', '10.41700000000000084110496346', '23', '17', '9559'], ['586682a8-db73-4e45-a376-c7553a44b248', '2', '1347', '2', '21.810000000000000000', '47.98200000000000387423426673', '20170502', '12.82600000000000103561603737', '23', '17', '9559'], ['586682a8-db73-4e45-a376-c7553a44b248', '2', '402', '2', '25.090000000000000000', '55.19800000000000445687931006', '20170502', '12.84800000000000103739239421', '23', '17', '9559'], ['586682a8-db73-4e45-a376-c7553a44b248', '2', '56', '3', '33.300000000000000000', '109.8900000000000088729024128', '20170502', '29.43600000000000237676545112', '23', '17', '9559'], ['586682a8-db73-4e45-a376-c7553a44b248', '2', '157', '2', '28.870000000000000000', '63.51400000000000512834219535', '20170502', '14.43200000000000116529008665', '23', '17', '9559']]"
          },
          "execution_count": 10,
          "metadata": {}
        }
      ],
      "metadata": {},
      "source": [
        "row_list[0:10]"
      ],
      "attachments": {}
    },
    {
      "cell_type": "code",
      "execution_count": 11,
      "outputs": [],
      "metadata": {},
      "source": [
        "df = pd.DataFrame(row_list, columns=['TransactionId','CustomerId', 'ProductId', 'Quantity', 'Price', 'TotalAmount', 'TransactionDateId', 'ProfitAmount', 'Hour', 'Minute', 'StoreId'])"
      ],
      "attachments": {}
    },
    {
      "cell_type": "code",
      "execution_count": 12,
      "outputs": [
        {
          "output_type": "execute_result",
          "data": {
            "text/plain": "TransactionId CustomerId ProductId Quantity  \\\n0   586682a8-db73-4e45-a376-c7553a44b248          2       610        4   \n1   586682a8-db73-4e45-a376-c7553a44b248          2      1321        3   \n2   586682a8-db73-4e45-a376-c7553a44b248          2      4364        1   \n3   586682a8-db73-4e45-a376-c7553a44b248          2      4691        2   \n4   586682a8-db73-4e45-a376-c7553a44b248          2      4691        3   \n5   586682a8-db73-4e45-a376-c7553a44b248          2      2392        1   \n6   586682a8-db73-4e45-a376-c7553a44b248          2      1347        2   \n7   586682a8-db73-4e45-a376-c7553a44b248          2       402        2   \n8   586682a8-db73-4e45-a376-c7553a44b248          2        56        3   \n9   586682a8-db73-4e45-a376-c7553a44b248          2       157        2   \n10  586682a8-db73-4e45-a376-c7553a44b248          2        78        1   \n11  21cacd35-336f-442e-8afd-8cb637678c56          4       238        1   \n12  21cacd35-336f-442e-8afd-8cb637678c56          4       138        3   \n13  21cacd35-336f-442e-8afd-8cb637678c56          4      4095        4   \n14  21cacd35-336f-442e-8afd-8cb637678c56          4      4013        4   \n15  21cacd35-336f-442e-8afd-8cb637678c56          4      3657        1   \n16  21cacd35-336f-442e-8afd-8cb637678c56          4        89        3   \n17  21cacd35-336f-442e-8afd-8cb637678c56          4       178        4   \n18  21cacd35-336f-442e-8afd-8cb637678c56          4        71        2   \n19  21cacd35-336f-442e-8afd-8cb637678c56          4         2        4   \n20  8482d371-90d8-45f2-b31e-990119f7c129         15      4949        3   \n21  8482d371-90d8-45f2-b31e-990119f7c129         15      1675        1   \n22  8482d371-90d8-45f2-b31e-990119f7c129         15      1858        1   \n23  8482d371-90d8-45f2-b31e-990119f7c129         15      4340        1   \n24  8482d371-90d8-45f2-b31e-990119f7c129         15      1294        1   \n25  8482d371-90d8-45f2-b31e-990119f7c129         15        14        3   \n26  8482d371-90d8-45f2-b31e-990119f7c129         15        46        1   \n27  8482d371-90d8-45f2-b31e-990119f7c129         15        54        2   \n28  8482d371-90d8-45f2-b31e-990119f7c129         15        57        4   \n29  a4a58e85-c753-4c96-9bf7-dccf207445ca         18      2899        1   \n..                                   ...        ...       ...      ...   \n70  f2db6005-f5d3-4e16-acfd-83d325800a90         63       485        4   \n71  f2db6005-f5d3-4e16-acfd-83d325800a90         63      3107        4   \n72  f2db6005-f5d3-4e16-acfd-83d325800a90         63      2461        1   \n73  f2db6005-f5d3-4e16-acfd-83d325800a90         63       184        4   \n74  f2db6005-f5d3-4e16-acfd-83d325800a90         63        79        2   \n75  f2db6005-f5d3-4e16-acfd-83d325800a90         63       161        3   \n76  f2db6005-f5d3-4e16-acfd-83d325800a90         63       254        3   \n77  f2db6005-f5d3-4e16-acfd-83d325800a90         63        98        3   \n78  1a7a913d-c50b-4b49-9302-b4a6629c81e1         71      3298        1   \n79  1a7a913d-c50b-4b49-9302-b4a6629c81e1         71      1113        1   \n80  1a7a913d-c50b-4b49-9302-b4a6629c81e1         71      2633        4   \n81  1a7a913d-c50b-4b49-9302-b4a6629c81e1         71       875        3   \n82  1a7a913d-c50b-4b49-9302-b4a6629c81e1         71      4274        4   \n83  1a7a913d-c50b-4b49-9302-b4a6629c81e1         71       696        1   \n84  1a7a913d-c50b-4b49-9302-b4a6629c81e1         71        96        3   \n85  1a7a913d-c50b-4b49-9302-b4a6629c81e1         71        33        2   \n86  1a7a913d-c50b-4b49-9302-b4a6629c81e1         71        25        2   \n87  1f673cd3-0982-44b0-a3e8-f17dd3c40059         73      2587        1   \n88  1f673cd3-0982-44b0-a3e8-f17dd3c40059         73      4357        4   \n89  1f673cd3-0982-44b0-a3e8-f17dd3c40059         73      1893        1   \n90  1f673cd3-0982-44b0-a3e8-f17dd3c40059         73      3230        4   \n91  1f673cd3-0982-44b0-a3e8-f17dd3c40059         73      3230        4   \n92  1f673cd3-0982-44b0-a3e8-f17dd3c40059         73      2826        4   \n93  1f673cd3-0982-44b0-a3e8-f17dd3c40059         73      3506        3   \n94  1f673cd3-0982-44b0-a3e8-f17dd3c40059         73      3698        1   \n95  1f673cd3-0982-44b0-a3e8-f17dd3c40059         73       116        3   \n96  1f673cd3-0982-44b0-a3e8-f17dd3c40059         73       215        1   \n97  1f673cd3-0982-44b0-a3e8-f17dd3c40059         73       201        4   \n98  1f673cd3-0982-44b0-a3e8-f17dd3c40059         73        57        1   \n99  4a582346-d47a-413d-bc04-149f0354033e         83      1345        4   \n\n                    Price                    TotalAmount TransactionDateId  \\\n0   35.790000000000000000  157.4760000000000127151622564          20170502   \n1   22.080000000000000000  72.86400000000000588329385209          20170502   \n2   16.150000000000000000  17.76500000000000143440814782          20170502   \n3   35.840000000000000000  78.84800000000000636646291241          20170502   \n4   35.840000000000000000  118.2720000000000095496943686          20170502   \n5   32.900000000000000000  36.19000000000000292210700081          20170502   \n6   21.810000000000000000  47.98200000000000387423426673          20170502   \n7   25.090000000000000000  55.19800000000000445687931006          20170502   \n8   33.300000000000000000  109.8900000000000088729024128          20170502   \n9   28.870000000000000000  63.51400000000000512834219535          20170502   \n10  29.420000000000000000  32.36200000000000261302091076          20170502   \n11  28.090000000000000000  30.89900000000000249489318094          20170502   \n12  24.720000000000000000  81.57600000000000658673116050          20170502   \n13  36.620000000000000000  161.1280000000000130100374918          20170502   \n14  38.220000000000000000  168.1680000000000135784716804          20170502   \n15  20.950000000000000000  23.04500000000000186073378927          20170502   \n16  25.270000000000000000  83.39100000000000673328059975          20170502   \n17  35.600000000000000000  156.6400000000000126476606965          20170502   \n18  35.740000000000000000  78.62800000000000634869934402          20170502   \n19  39.780000000000000000  175.0320000000000141326950143          20170502   \n20  29.340000000000000000  96.82200000000000781774645020          20170502   \n21  29.940000000000000000  32.93400000000000265920618858          20170502   \n22  21.630000000000000000  23.79300000000000192112992181          20170502   \n23  22.680000000000000000  24.94800000000000201438865588          20170502   \n24  29.920000000000000000  32.91200000000000265742983174          20170502   \n25  31.620000000000000000  104.3460000000000084252604893          20170502   \n26  25.910000000000000000  28.50100000000000230127028544          20170502   \n27  30.640000000000000000  67.40800000000000544275735592          20170502   \n28  31.440000000000000000  138.3360000000000111697318061          20170502   \n29  27.200000000000000000  29.92000000000000241584530158          20170502   \n..                    ...                            ...               ...   \n70  30.930000000000000000  136.0920000000000109885434085          20170502   \n71  26.010000000000000000  114.4440000000000092406082786          20170502   \n72  27.640000000000000000  30.40400000000000245492515205          20170502   \n73  26.060000000000000000  114.6640000000000092583718470          20170502   \n74  30.760000000000000000  67.67200000000000546407363800          20170502   \n75  30.140000000000000000  99.46200000000000803090927093          20170502   \n76  33.470000000000000000  110.4510000000000089181995122          20170502   \n77  27.750000000000000000  91.57500000000000739408534400          20170502   \n78  20.710000000000000000  22.78100000000000183941750720          20170502   \n79  25.120000000000000000  27.63200000000000223110419029          20170502   \n80  32.630000000000000000  143.5720000000000115925047339          20170502   \n81  24.080000000000000000  79.46400000000000641620090391          20170502   \n82  23.610000000000000000  103.8840000000000083879569956          20170502   \n83  26.410000000000000000  29.05100000000000234567920643          20170502   \n84  42.080000000000000000  138.8640000000000112123643703          20170502   \n85  27.850000000000000000  61.27000000000000494715379773          20170502   \n86  18.770000000000000000  41.29400000000000333422178755          20170502   \n87  25.920000000000000000  28.51200000000000230215846386          20170502   \n88  23.130000000000000000  101.7720000000000082174267391          20170502   \n89  24.400000000000000000  26.84000000000000216715534407          20170502   \n90  30.740000000000000000  135.2560000000000109210418486          20170502   \n91  30.740000000000000000  135.2560000000000109210418486          20170502   \n92  24.740000000000000000  108.8560000000000087894136414          20170502   \n93  26.250000000000000000  86.62500000000000699440505514          20170502   \n94  39.840000000000000000  43.82400000000000353850282409          20170502   \n95  16.460000000000000000  54.31800000000000438582503648          20170502   \n96  32.650000000000000000  35.91500000000000289990254032          20170502   \n97  34.010000000000000000  149.6440000000000120827792216          20170502   \n98  31.440000000000000000  34.58400000000000279243295154          20170502   \n99  30.640000000000000000  134.8160000000000108855147118          20170502   \n\n                     ProfitAmount Hour Minute StoreId  \n0   53.63600000000000433075797446   23     17    9559  \n1   19.66800000000000158806301442   23     17    9559  \n2   5.896000000000000476063632959   23     17    9559  \n3   24.20000000000000195399252334   23     17    9559  \n4   36.30000000000000293098878501   23     17    9559  \n5   10.41700000000000084110496346   23     17    9559  \n6   12.82600000000000103561603737   23     17    9559  \n7   12.84800000000000103739239421   23     17    9559  \n8   29.43600000000000237676545112   23     17    9559  \n9   14.43200000000000116529008665   23     17    9559  \n10  10.68100000000000086242124553   23     17    9559  \n11  10.93400000000000088284934918   17     25    5286  \n12  26.59800000000000214761541883   17     25    5286  \n13  48.00400000000000387601062357   17     25    5286  \n14  54.60400000000000440891767539   17     25    5286  \n15  6.589000000000000532018873400   17     25    5286  \n16  26.20200000000000211564099573   17     25    5286  \n17  46.02400000000000371613850803   17     25    5286  \n18  21.05400000000000169997349531   17     25    5286  \n19  46.11200000000000372324393538   17     25    5286  \n20  26.26800000000000212097006624   13     20    6231  \n21  8.646000000000000698108237884   13     20    6231  \n22  8.173000000000000659916565837   13     20    6231  \n23  7.590000000000000612843109593   13     20    6231  \n24  10.18600000000000082245321664   13     20    6231  \n25  27.95100000000000225686136446   13     20    6231  \n26  9.680000000000000781597009336   13     20    6231  \n27  21.05400000000000169997349531   13     20    6231  \n28  37.53200000000000303046476802   13     20    6231  \n29  10.51600000000000084909856923   14     36    3957  \n..                            ...  ...    ...     ...  \n70  45.58400000000000368061137124   13     34    9649  \n71  34.18800000000000276045852843   13     34    9649  \n72  9.009000000000000727418125734   13     34    9649  \n73  34.27600000000000276756395579   13     34    9649  \n74  19.36000000000000156319401867   13     34    9649  \n75  22.53900000000000181987758197   13     34    9649  \n76  34.02300000000000274713585213   13     34    9649  \n77  25.70700000000000207567296684   13     34    9649  \n78  7.227000000000000583533221743   13      6    2736  \n79  9.537000000000000770050689880   13      6    2736  \n80  42.28400000000000341415784533   13      6    2736  \n81  23.56200000000000190247817500   13      6    2736  \n82  28.99600000000000234123831433   13      6    2736  \n83  9.295000000000000750510764647   13      6    2736  \n84  43.23000000000000349054118942   13      6    2736  \n85  15.92800000000000128608235173   13      6    2736  \n86  12.14400000000000098054897535   13      6    2736  \n87  6.457000000000000521360732364    7      0     706  \n88  32.29600000000000260769184024    7      0     706  \n89  9.493000000000000766497976201    7      0     706  \n90  42.06400000000000339639427693    7      0     706  \n91  42.06400000000000339639427693    7      0     706  \n92  37.35600000000000301625391330    7      0     706  \n93  21.28500000000000171862524212    7      0     706  \n94  14.83900000000000119815268818    7      0     706  \n95  13.89300000000000112176934408    7      0     706  \n96  8.393000000000000677680134231    7      0     706  \n97  39.33600000000000317612602885    7      0     706  \n98  9.383000000000000757616192004    7      0     706  \n99  41.14000000000000332178728968   20     19     371  \n\n[100 rows x 11 columns]"
          },
          "execution_count": 12,
          "metadata": {}
        }
      ],
      "metadata": {},
      "source": [
        "df.head(100)"
      ],
      "attachments": {}
    },
    {
      "cell_type": "markdown",
      "metadata": {},
      "source": [
        "# The country challenge\n",
        ""
      ],
      "attachments": {}
    },
    {
      "cell_type": "code",
      "execution_count": 4,
      "outputs": [
        {
          "output_type": "execute_result",
          "data": {
            "application/json": {
              "table": {
                "rows": [
                  {
                    "LastName": "Swift",
                    "CustomerId": "129219",
                    "Address": "'40544 Imelda Dale",
                    "MiddleInitial": "Y",
                    "FirstName": "Juana",
                    "Mobile": " Port Kristofer Aruba'",
                    "Email": "0459-983-844",
                    "BirthDate": "1962-05-01",
                    "Age": "58",
                    "FullName": "Juana Y. Swift",
                    "Gender": "Female"
                  },
                  {
                    "LastName": "Wunsch",
                    "CustomerId": "129220",
                    "Address": "'50709 Bogisich Track",
                    "MiddleInitial": "X",
                    "FirstName": "Dean",
                    "Mobile": " East Anniefort Grenada'",
                    "Email": "0523-145-911",
                    "BirthDate": "1966-07-23",
                    "Age": "53",
                    "FullName": "Dean X. Wunsch",
                    "Gender": "Male"
                  },
                  {
                    "LastName": "Ullrich",
                    "CustomerId": "129221",
                    "Address": "'55535 Sarah Forest",
                    "FirstName": "Rosalie",
                    "Mobile": " Naderview Tanzania'",
                    "Email": "0268-868-527",
                    "BirthDate": "1959-01-21",
                    "Age": "61",
                    "FullName": "Rosalie Ullrich",
                    "Gender": "Female"
                  },
                  {
                    "LastName": "Sipes",
                    "CustomerId": "129222",
                    "Address": "'60339 Emil Run",
                    "MiddleInitial": "L",
                    "FirstName": "Harry",
                    "Mobile": " Berniertown Saint Helena'",
                    "Email": "0982-373-654",
                    "BirthDate": "1959-11-10",
                    "Age": "60",
                    "FullName": "Harry L. Sipes",
                    "Gender": "Male"
                  },
                  {
                    "LastName": "Green",
                    "CustomerId": "129223",
                    "Address": "'11077 Marcelino Circle",
                    "MiddleInitial": "V",
                    "FirstName": "Abraham",
                    "Mobile": " West Norashire Congo'",
                    "Email": "0756-800-365",
                    "BirthDate": "1973-03-20",
                    "Age": "47",
                    "FullName": "Abraham V. Green",
                    "Gender": "Male"
                  },
                  {
                    "LastName": "Flatley",
                    "CustomerId": "129224",
                    "Address": "'14579 Shanel Ferry",
                    "FirstName": "Lewis",
                    "Mobile": " Roobbury Cook Islands'",
                    "Email": "0471-598-612",
                    "BirthDate": "1968-03-29",
                    "Age": "52",
                    "FullName": "Lewis Flatley",
                    "Gender": "Male"
                  },
                  {
                    "LastName": "Brown",
                    "CustomerId": "129225",
                    "Address": "'36806 Armando Walk",
                    "MiddleInitial": "W",
                    "FirstName": "Leland",
                    "Mobile": " Port Susanville Cambodia'",
                    "Email": "0284-918-376",
                    "BirthDate": "1971-04-07",
                    "Age": "49",
                    "FullName": "Leland W. Brown",
                    "Gender": "Male"
                  },
                  {
                    "LastName": "Fritsch",
                    "CustomerId": "129226",
                    "Address": "'38422 Karianne Parks",
                    "MiddleInitial": "G",
                    "FirstName": "Stacey",
                    "Mobile": " Kiehnfort Cuba'",
                    "Email": "0467-603-811",
                    "BirthDate": "1977-09-26",
                    "Age": "42",
                    "FullName": "Stacey G. Fritsch",
                    "Gender": "Female"
                  },
                  {
                    "LastName": "Gutkowski",
                    "CustomerId": "129227",
                    "Address": "'12124 Alta Point",
                    "FirstName": "Marianne",
                    "Mobile": " Oberbrunnerville Saint Barthelemy'",
                    "Email": "0732-990-981",
                    "BirthDate": "1969-08-25",
                    "Age": "50",
                    "FullName": "Marianne Gutkowski",
                    "Gender": "Female"
                  },
                  {
                    "LastName": "Lubowitz",
                    "CustomerId": "129228",
                    "Address": "'65116 Nelda Springs",
                    "MiddleInitial": "D",
                    "FirstName": "Vicki",
                    "Mobile": " New Kristopherfurt China'",
                    "Email": "0684-721-534",
                    "BirthDate": "1958-07-07",
                    "Age": "61",
                    "FullName": "Vicki D. Lubowitz",
                    "Gender": "Female"
                  }
                ],
                "schema": {
                  "CustomerId": "string",
                  "FirstName": "string",
                  "MiddleInitial": "string",
                  "LastName": "string",
                  "FullName": "string",
                  "Gender": "string",
                  "Age": "string",
                  "BirthDate": "string",
                  "Address": "string",
                  "Mobile": "string",
                  "Email": "string"
                }
              },
              "isSummary": false,
              "language": "scala"
            }
          },
          "execution_count": 4,
          "metadata": {}
        }
      ],
      "metadata": {
        "outputCollapsed": true,
        "diagram": {
          "activateDiagramType": 1,
          "chartConfig": {
            "category": "bar",
            "keys": [
              "CustomerId"
            ],
            "values": [
              "CustomerId"
            ],
            "yLabel": "CustomerId",
            "xLabel": "CustomerId",
            "aggregation": "COUNT",
            "aggByBackend": false
          },
          "aggData": "{\"CustomerId\":{\"129219\":1,\"129220\":1,\"129221\":1,\"129222\":1,\"129223\":1,\"129224\":1,\"129225\":1,\"129226\":1,\"129227\":1,\"129228\":1}}",
          "isSummary": false,
          "previewData": {
            "filter": null
          },
          "isSql": false
        }
      },
      "source": [
        "%%pyspark\n",
        "data_path = spark.read.load('abfss://wwi-02@asadatalake01.dfs.core.windows.net/data-generators/generator-customer.csv'\n",
        ", format='csv'\n",
        ", header=True\n",
        ")\n",
        "display(data_path.limit(10))"
      ]
    },
    {
      "cell_type": "markdown",
      "metadata": {},
      "source": [
        "There seems to be an issue with the address containing the separator character, but it also looks like the address is correctly quoted. Let's reload the data with a quote character specification:\n",
        ""
      ],
      "attachments": {}
    },
    {
      "cell_type": "code",
      "execution_count": 5,
      "outputs": [
        {
          "output_type": "execute_result",
          "data": {
            "application/json": {
              "table": {
                "rows": [
                  {
                    "LastName": "Swift",
                    "CustomerId": "129219",
                    "Address": "40544 Imelda Dale, Port Kristofer Aruba",
                    "MiddleInitial": "Y",
                    "FirstName": "Juana",
                    "Mobile": "0459-983-844",
                    "Email": "Juana_Swift_88@yahoo.com",
                    "BirthDate": "1962-05-01",
                    "Age": "58",
                    "FullName": "Juana Y. Swift",
                    "Gender": "Female"
                  },
                  {
                    "LastName": "Wunsch",
                    "CustomerId": "129220",
                    "Address": "50709 Bogisich Track, East Anniefort Grenada",
                    "MiddleInitial": "X",
                    "FirstName": "Dean",
                    "Mobile": "0523-145-911",
                    "Email": "Dean_Wunsch_87@outlook.com",
                    "BirthDate": "1966-07-23",
                    "Age": "53",
                    "FullName": "Dean X. Wunsch",
                    "Gender": "Male"
                  },
                  {
                    "LastName": "Ullrich",
                    "CustomerId": "129221",
                    "Address": "55535 Sarah Forest, Naderview Tanzania",
                    "FirstName": "Rosalie",
                    "Mobile": "0268-868-527",
                    "Email": "Rosalie_Ullrich_48@outlook.com",
                    "BirthDate": "1959-01-21",
                    "Age": "61",
                    "FullName": "Rosalie Ullrich",
                    "Gender": "Female"
                  },
                  {
                    "LastName": "Sipes",
                    "CustomerId": "129222",
                    "Address": "60339 Emil Run, Berniertown Saint Helena",
                    "MiddleInitial": "L",
                    "FirstName": "Harry",
                    "Mobile": "0982-373-654",
                    "Email": "Harry_Sipes_94@gmail.com",
                    "BirthDate": "1959-11-10",
                    "Age": "60",
                    "FullName": "Harry L. Sipes",
                    "Gender": "Male"
                  },
                  {
                    "LastName": "Green",
                    "CustomerId": "129223",
                    "Address": "11077 Marcelino Circle, West Norashire Congo",
                    "MiddleInitial": "V",
                    "FirstName": "Abraham",
                    "Mobile": "0756-800-365",
                    "Email": "Abraham_Green_26@outlook.com",
                    "BirthDate": "1973-03-20",
                    "Age": "47",
                    "FullName": "Abraham V. Green",
                    "Gender": "Male"
                  },
                  {
                    "LastName": "Flatley",
                    "CustomerId": "129224",
                    "Address": "14579 Shanel Ferry, Roobbury Cook Islands",
                    "FirstName": "Lewis",
                    "Mobile": "0471-598-612",
                    "Email": "Lewis_Flatley_87@gmail.com",
                    "BirthDate": "1968-03-29",
                    "Age": "52",
                    "FullName": "Lewis Flatley",
                    "Gender": "Male"
                  },
                  {
                    "LastName": "Brown",
                    "CustomerId": "129225",
                    "Address": "36806 Armando Walk, Port Susanville Cambodia",
                    "MiddleInitial": "W",
                    "FirstName": "Leland",
                    "Mobile": "0284-918-376",
                    "Email": "Leland_Brown_80@yahoo.com",
                    "BirthDate": "1971-04-07",
                    "Age": "49",
                    "FullName": "Leland W. Brown",
                    "Gender": "Male"
                  },
                  {
                    "LastName": "Fritsch",
                    "CustomerId": "129226",
                    "Address": "38422 Karianne Parks, Kiehnfort Cuba",
                    "MiddleInitial": "G",
                    "FirstName": "Stacey",
                    "Mobile": "0467-603-811",
                    "Email": "Stacey_Fritsch_70@outlook.com",
                    "BirthDate": "1977-09-26",
                    "Age": "42",
                    "FullName": "Stacey G. Fritsch",
                    "Gender": "Female"
                  },
                  {
                    "LastName": "Gutkowski",
                    "CustomerId": "129227",
                    "Address": "12124 Alta Point, Oberbrunnerville Saint Barthelemy",
                    "FirstName": "Marianne",
                    "Mobile": "0732-990-981",
                    "Email": "Marianne_Gutkowski_92@yahoo.com",
                    "BirthDate": "1969-08-25",
                    "Age": "50",
                    "FullName": "Marianne Gutkowski",
                    "Gender": "Female"
                  },
                  {
                    "LastName": "Lubowitz",
                    "CustomerId": "129228",
                    "Address": "65116 Nelda Springs, New Kristopherfurt China",
                    "MiddleInitial": "D",
                    "FirstName": "Vicki",
                    "Mobile": "0684-721-534",
                    "Email": "Vicki_Lubowitz_88@gmail.com",
                    "BirthDate": "1958-07-07",
                    "Age": "61",
                    "FullName": "Vicki D. Lubowitz",
                    "Gender": "Female"
                  }
                ],
                "schema": {
                  "CustomerId": "string",
                  "FirstName": "string",
                  "MiddleInitial": "string",
                  "LastName": "string",
                  "FullName": "string",
                  "Gender": "string",
                  "Age": "string",
                  "BirthDate": "string",
                  "Address": "string",
                  "Mobile": "string",
                  "Email": "string"
                }
              },
              "isSummary": false,
              "language": "scala"
            }
          },
          "execution_count": 5,
          "metadata": {}
        }
      ],
      "metadata": {
        "diagram": {
          "activateDiagramType": 1,
          "chartConfig": {
            "category": "bar",
            "keys": [
              "CustomerId"
            ],
            "values": [
              "CustomerId"
            ],
            "yLabel": "CustomerId",
            "xLabel": "CustomerId",
            "aggregation": "COUNT",
            "aggByBackend": false
          },
          "aggData": "{\"CustomerId\":{\"129219\":1,\"129220\":1,\"129221\":1,\"129222\":1,\"129223\":1,\"129224\":1,\"129225\":1,\"129226\":1,\"129227\":1,\"129228\":1}}",
          "isSummary": false,
          "previewData": {
            "filter": null
          },
          "isSql": false
        }
      },
      "source": [
        "%%pyspark\n",
        "data_path = spark.read.load('abfss://wwi-02@asadatalake01.dfs.core.windows.net/data-generators/generator-customer.csv'\n",
        ", format='csv'\n",
        ", header=True\n",
        ", quote='\\''\n",
        ")\n",
        "display(data_path.limit(10))"
      ],
      "attachments": {}
    },
    {
      "cell_type": "code",
      "execution_count": 20,
      "outputs": [],
      "metadata": {},
      "source": [
        "cust_df = data_path.toPandas()"
      ],
      "attachments": {}
    },
    {
      "cell_type": "code",
      "execution_count": 21,
      "outputs": [],
      "metadata": {},
      "source": [
        "cust_df[['Addr_Split_1', 'Addr_Split_2']] = cust_df.Address.str.split(\",\",expand=True) \n",
        "temp1 = cust_df.Addr_Split_1.str.split(\" \", expand=True)\n",
        "cust_df['Address_PostalCode'] = temp1[0]\n",
        "cust_df['Address_Street'] = temp1[1] + ' ' + temp1[2]"
      ],
      "attachments": {}
    },
    {
      "cell_type": "code",
      "execution_count": 28,
      "outputs": [
        {
          "output_type": "execute_result",
          "data": {
            "text/plain": "0                                          Mazieton Guyana\n1                                       Ziemeborough Nauru\n2                                      West Nadia Slovenia\n3                                        Libbiefort Taiwan\n4                                  West Paolofort Dominica\n5                                        Lake Ebony Taiwan\n6                                East Cristianview Reunion\n7                                            Janport Malta\n8                        Jakaylashire Syrian Arab Republic\n9                                 Pansyhaven Liechtenstein\n10                                     Lake Hector Morocco\n11          Isabelleburgh Lao People's Democratic Republic\n12                                     New Nonaberg Angola\n13                              Port Lesterborough Armenia\n14             New Kacie Heard Island and McDonald Islands\n15         Olsonmouth United States Minor Outlying Islands\n16                                  Alessandraview Romania\n17                            East Chyna Brunei Darussalam\n18                                Brooklynborough Tanzania\n19                                   New Lizamouth Tunisia\n20                                  New Kianside Australia\n21           Port Jadenchester French Southern Territories\n22                                 Port Janellemouth Palau\n23                                      Lake Kavon Estonia\n24                                      Cecileborough Chad\n25                              Port Lisafort South Africa\n26                                    Isadorehaven Nigeria\n27           East Angelaside Holy See (Vatican City State)\n28                 North Myrtismouth Saint Kitts and Nevis\n29                                         Letastad Latvia\n                                ...                       \n999970                                 Deetown Netherlands\n999971                              Genovevaberg Indonesia\n999972                                  Prestonview Poland\n999973                                   Daisyshire France\n999974                           Port Chynaberg Kazakhstan\n999975                               East Laylaland Gambia\n999976                             Camyllemouth Bangladesh\n999977                               Heaneyburgh Hong Kong\n999978                            Rosenbaumfort Madagascar\n999979                       South Lola Russian Federation\n999980                             East Rosalee Kazakhstan\n999981                           East Marlenborough Turkey\n999982                                 Aaronfurt Australia\n999983                     South Lewmouth French Polynesia\n999984                         West Hattie Kyrgyz Republic\n999985                                   Quincystad Zambia\n999986                             Krajcikton Turkmenistan\n999987                           West Josefina Netherlands\n999988                           West Gunnerfort Indonesia\n999989                          Port Nonaport Saint Helena\n999990                            New Mackenzie Madagascar\n999991                                  Flatleyside Cyprus\n999992                            Port Virgieville Vanuatu\n999993                North Alana Central African Republic\n999994                                  Ernaville Pakistan\n999995                               New Roosevelt Somalia\n999996                                    Port Hank Turkey\n999997                              New Pierreberg Uruguay\n999998                        Cliffordville American Samoa\n999999                                  Lake Catalina Cuba\nName: Addr_Split_2, Length: 1000000, dtype: object"
          },
          "execution_count": 28,
          "metadata": {}
        }
      ],
      "metadata": {
        "outputCollapsed": true
      },
      "source": [
        "cust_df.Addr_Split_2"
      ],
      "attachments": {}
    },
    {
      "cell_type": "markdown",
      "metadata": {},
      "source": [
        "Let's find a list of country names from a public resource (e.g. https://gist.github.com/marijn/396531/188caa065e3cd319fed7913ee3eecf5eec541918). Save it in the `tempdata` folder of the data lake as `countries.txt`. Note that we kept only the country names (removed the country codes).\n",
        ""
      ],
      "attachments": {}
    },
    {
      "cell_type": "code",
      "execution_count": 62,
      "outputs": [],
      "metadata": {
        "diagram": {
          "activateDiagramType": 1,
          "chartConfig": {
            "category": "bar",
            "keys": [
              "value"
            ],
            "values": [
              "value"
            ],
            "yLabel": "value",
            "xLabel": "value",
            "aggregation": "COUNT",
            "aggByBackend": false
          },
          "aggData": "{\"value\":{\"Afghanistan\":1,\"Albania\":1,\"Algeria\":1,\"American Samoa\":1,\"Andorra\":1,\"Angola\":1,\"Anguilla\":1,\"Antarctica\":1,\"Antigua And Barbuda\":1,\"Argentina\":1}}",
          "isSummary": false,
          "previewData": {
            "filter": null
          },
          "isSql": false
        }
      },
      "source": [
        "countries = spark.read.load('abfss://tempdata@asadatalake01.dfs.core.windows.net/Country.txt', format='text')\n",
        "country_df = countries.toPandas()\n",
        "country_list = list(set(country_df['value'].str.lower()))"
      ],
      "attachments": {}
    },
    {
      "cell_type": "code",
      "execution_count": 50,
      "outputs": [],
      "metadata": {},
      "source": [
        "temp2 = cust_df.Addr_Split_2.str.split(\" \", expand=True)\n",
        "temp2 = temp2.fillna(value='')\n",
        "temp2['Address_City'] = None\n",
        "temp2['Address_Country'] = None"
      ],
      "attachments": {}
    },
    {
      "cell_type": "code",
      "execution_count": 65,
      "outputs": [],
      "metadata": {},
      "source": [
        "temp2['Candidate_Country_1'] = temp2[1] + ' ' + temp2[2] + ' ' + temp2[3] + ' ' + temp2[4] + ' ' + temp2[5] + ' ' + temp2[6] + ' ' + temp2[7] + ' ' + temp2[8] + ' ' + temp2[9] + ' ' + temp2[10]\n",
        "temp2['Candidate_Country_1'] = temp2['Candidate_Country_1'].str.strip().str.lower()\n",
        "temp2['Candidate_Country_2'] = temp2[2] + ' ' + temp2[3] + ' ' + temp2[4] + ' ' + temp2[5] + ' ' + temp2[6] + ' ' + temp2[7] + ' ' + temp2[8] + ' ' + temp2[9] + ' ' + temp2[10]\n",
        "temp2['Candidate_Country_2'] = temp2['Candidate_Country_2'].str.strip().str.lower()\n",
        "temp2['Candidate_Country_3'] = temp2[3] + ' ' + temp2[4] + ' ' + temp2[5] + ' ' + temp2[6] + ' ' + temp2[7] + ' ' + temp2[8] + ' ' + temp2[9] + ' ' + temp2[10]\n",
        "temp2['Candidate_Country_3'] = temp2['Candidate_Country_3'].str.strip().str.lower()\n",
        "temp2['Candidate_Country_4'] = temp2[4] + ' ' + temp2[5] + ' ' + temp2[6] + ' ' + temp2[7] + ' ' + temp2[8] + ' ' + temp2[9] + ' ' + temp2[10]\n",
        "temp2['Candidate_Country_4'] = temp2['Candidate_Country_4'].str.strip().str.lower()"
      ],
      "attachments": {}
    },
    {
      "cell_type": "code",
      "execution_count": 66,
      "outputs": [
        {
          "output_type": "execute_result",
          "data": {
            "text/plain": "0\n368938\n518161\n6888"
          },
          "execution_count": 66,
          "metadata": {}
        }
      ],
      "metadata": {},
      "source": [
        "print(temp2['Candidate_Country_1'].isin(country_list).sum())\n",
        "print(temp2['Candidate_Country_2'].isin(country_list).sum())\n",
        "print(temp2['Candidate_Country_3'].isin(country_list).sum())\n",
        "print(temp2['Candidate_Country_4'].isin(country_list).sum())"
      ],
      "attachments": {}
    },
    {
      "cell_type": "code",
      "execution_count": 67,
      "outputs": [],
      "metadata": {},
      "source": [
        "temp2.loc[temp2['Candidate_Country_2'].isin(country_list), 'Address_Country'] = temp2['Candidate_Country_2']\n",
        "temp2.loc[temp2['Candidate_Country_3'].isin(country_list), 'Address_Country'] = temp2['Candidate_Country_3']\n",
        "temp2.loc[temp2['Candidate_Country_4'].isin(country_list), 'Address_Country'] = temp2['Candidate_Country_4']"
      ],
      "attachments": {}
    },
    {
      "cell_type": "code",
      "execution_count": 71,
      "outputs": [
        {
          "output_type": "execute_result",
          "data": {
            "text/plain": "0                 1              2            3           4  \\\n3               Libbiefort         Taiwan                            \n5                     Lake          Ebony       Taiwan               \n18         Brooklynborough       Tanzania                            \n32                    Lake     Moisesfort   Democratic    People's   \n36             Jacobiburgh          Saint   Barthelemy               \n41           Reynoldshaven         Virgin      Islands     British   \n45               Taramouth     Kazakhstan                            \n63                   South  Kelleyborough        Saint  Barthelemy   \n64            Estevanville         Taiwan                            \n78                   South      Myrnafurt       Virgin     Islands   \n103                   West      Myronstad     Pitcairn     Islands   \n107              Tomasberg      Macedonia                            \n109              Calihaven        British       Indian       Ocean   \n111                 Ianton         Jersey                            \n124                    New     Veronafurt      Moldova               \n138                   West    Claireshire     Svalbard           &   \n141            Jovannystad       Tanzania                            \n146                   Port     Melodyfurt   Democratic    People's   \n157            Sporershire           Isle           of         Man   \n161                  North   Rhiannonside   Antarctica        (the   \n164                  South    Shannyburgh       United      States   \n171            Hobartmouth        British       Indian       Ocean   \n198                   Port     Alizemouth        Macao               \n199               Otisview       Slovakia      (Slovak   Republic)   \n201               Vadaport         Virgin      Islands        U.S.   \n210                  South     Albinaview      Vietnam               \n230                   West         Sydnie         Iran               \n234                  North       Babyland     Slovakia     (Slovak   \n246                  North          Mabel   Micronesia               \n259                   West         Colten   Antarctica        (the   \n...    ..              ...            ...          ...         ...   \n999676        Humbertobury      Macedonia                            \n999679                Lake       Boriston       Bouvet      Island   \n999686                Lake    Eunachester     Slovakia     (Slovak   \n999687                East       Murltown  Palestinian   Territory   \n999699               South           Buck   Democratic    People's   \n999704     Isabellaborough        Moldova                            \n999713          Parkerberg           Isle           of         Man   \n999726                 New   Scottieshire     Svalbard           &   \n999742           Sonyaland         Virgin      Islands     British   \n999767                 New         Elijah       Bouvet      Island   \n999770                Lake      Ricoburgh       Jersey               \n999783               South            Sam     Svalbard           &   \n999794                West            Rey       Kyrgyz    Republic   \n999811        Lisandrofort       Svalbard            &         Jan   \n999819                Lake   Annabellberg   Antarctica        (the   \n999824                East       Reinhold     Pitcairn     Islands   \n999833                 New         Noeton     Republic          of   \n999847          Evalynport           Iran                            \n999866               South          Nedra       Virgin     Islands   \n999867               South      Piperland       Taiwan               \n999874         Bernitaside       Pitcairn      Islands               \n999875                East     Susanaview   Kazakhstan               \n999883                East       Berniece     Svalbard           &   \n999910                East      Deliaport     Guernsey               \n999931           Huelsbury     Kazakhstan                            \n999951           Uptonport           Iran                            \n999960                 New      Lilymouth       Kyrgyz    Republic   \n999974                Port      Chynaberg   Kazakhstan               \n999980                East        Rosalee   Kazakhstan               \n999984                West         Hattie       Kyrgyz    Republic   \n\n                  5        6             7   8    9  10 Address_City  \\\n3                                                               None   \n5                                                               None   \n18                                                              None   \n32         Republic       of         Korea                      None   \n36                                                              None   \n41                                                              None   \n45                                                              None   \n63                                                              None   \n64                                                              None   \n78             U.S.                                             None   \n103                                                             None   \n107                                                             None   \n109       Territory  (Chagos  Archipelago)                      None   \n111                                                             None   \n124                                                             None   \n138             Jan    Mayen       Islands                      None   \n141                                                             None   \n146        Republic       of         Korea                      None   \n157                                                             None   \n161       territory    South            of  60  deg  S)         None   \n164              of  America                                    None   \n171       Territory  (Chagos  Archipelago)                      None   \n198                                                             None   \n199                                                             None   \n201                                                             None   \n210                                                             None   \n230                                                             None   \n234       Republic)                                             None   \n246                                                             None   \n259       territory    South            of  60  deg  S)         None   \n...             ...      ...           ...  ..  ...  ..          ...   \n999676                                                          None   \n999679  (Bouvetoya)                                             None   \n999686    Republic)                                             None   \n999687                                                          None   \n999699     Republic       of         Korea                      None   \n999704                                                          None   \n999713                                                          None   \n999726          Jan    Mayen       Islands                      None   \n999742                                                          None   \n999767  (Bouvetoya)                                             None   \n999770                                                          None   \n999783          Jan    Mayen       Islands                      None   \n999794                                                          None   \n999811        Mayen  Islands                                    None   \n999819    territory    South            of  60  deg  S)         None   \n999824                                                          None   \n999833        Korea                                             None   \n999847                                                          None   \n999866      British                                             None   \n999867                                                          None   \n999874                                                          None   \n999875                                                          None   \n999883          Jan    Mayen       Islands                      None   \n999910                                                          None   \n999931                                                          None   \n999951                                                          None   \n999960                                                          None   \n999974                                                          None   \n999980                                                          None   \n999984                                                          None   \n\n       Address_Country                                Candidate_Country_1  \\\n3                 None                                  libbiefort taiwan   \n5                 None                                  lake ebony taiwan   \n18                None                           brooklynborough tanzania   \n32                None  lake moisesfort democratic people's republic o...   \n36                None                       jacobiburgh saint barthelemy   \n41                None               reynoldshaven virgin islands british   \n45                None                               taramouth kazakhstan   \n63                None               south kelleyborough saint barthelemy   \n64                None                                estevanville taiwan   \n78                None                south myrnafurt virgin islands u.s.   \n103               None                    west myronstad pitcairn islands   \n107               None                                tomasberg macedonia   \n109               None  calihaven british indian ocean territory (chag...   \n111               None                                      ianton jersey   \n124               None                             new veronafurt moldova   \n138               None      west claireshire svalbard & jan mayen islands   \n141               None                               jovannystad tanzania   \n146               None  port melodyfurt democratic people's republic o...   \n157               None                            sporershire isle of man   \n161               None  north rhiannonside antarctica (the territory s...   \n164               None         south shannyburgh united states of america   \n171               None  hobartmouth british indian ocean territory (ch...   \n198               None                              port alizemouth macao   \n199               None                otisview slovakia (slovak republic)   \n201               None                       vadaport virgin islands u.s.   \n210               None                           south albinaview vietnam   \n230               None                                   west sydnie iran   \n234               None          north babyland slovakia (slovak republic)   \n246               None                             north mabel micronesia   \n259               None  west colten antarctica (the territory south of...   \n...                ...                                                ...   \n999676            None                             humbertobury macedonia   \n999679            None            lake boriston bouvet island (bouvetoya)   \n999686            None        lake eunachester slovakia (slovak republic)   \n999687            None                east murltown palestinian territory   \n999699            None   south buck democratic people's republic of korea   \n999704            None                            isabellaborough moldova   \n999713            None                             parkerberg isle of man   \n999726            None      new scottieshire svalbard & jan mayen islands   \n999742            None                   sonyaland virgin islands british   \n999767            None               new elijah bouvet island (bouvetoya)   \n999770            None                              lake ricoburgh jersey   \n999783            None             south sam svalbard & jan mayen islands   \n999794            None                           west rey kyrgyz republic   \n999811            None          lisandrofort svalbard & jan mayen islands   \n999819            None  lake annabellberg antarctica (the territory so...   \n999824            None                     east reinhold pitcairn islands   \n999833            None                       new noeton republic of korea   \n999847            None                                    evalynport iran   \n999866            None                 south nedra virgin islands british   \n999867            None                             south piperland taiwan   \n999874            None                       bernitaside pitcairn islands   \n999875            None                         east susanaview kazakhstan   \n999883            None         east berniece svalbard & jan mayen islands   \n999910            None                            east deliaport guernsey   \n999931            None                               huelsbury kazakhstan   \n999951            None                                     uptonport iran   \n999960            None                      new lilymouth kyrgyz republic   \n999974            None                          port chynaberg kazakhstan   \n999980            None                            east rosalee kazakhstan   \n999984            None                        west hattie kyrgyz republic   \n\n                                      Candidate_Country_2  \\\n3                                                  taiwan   \n5                                            ebony taiwan   \n18                                               tanzania   \n32       moisesfort democratic people's republic of korea   \n36                                       saint barthelemy   \n41                                 virgin islands british   \n45                                             kazakhstan   \n63                         kelleyborough saint barthelemy   \n64                                                 taiwan   \n78                          myrnafurt virgin islands u.s.   \n103                            myronstad pitcairn islands   \n107                                             macedonia   \n109     british indian ocean territory (chagos archipe...   \n111                                                jersey   \n124                                    veronafurt moldova   \n138              claireshire svalbard & jan mayen islands   \n141                                              tanzania   \n146      melodyfurt democratic people's republic of korea   \n157                                           isle of man   \n161     rhiannonside antarctica (the territory south o...   \n164                  shannyburgh united states of america   \n171     british indian ocean territory (chagos archipe...   \n198                                      alizemouth macao   \n199                            slovakia (slovak republic)   \n201                                   virgin islands u.s.   \n210                                    albinaview vietnam   \n230                                           sydnie iran   \n234                   babyland slovakia (slovak republic)   \n246                                      mabel micronesia   \n259     colten antarctica (the territory south of 60 d...   \n...                                                   ...   \n999676                                          macedonia   \n999679                 boriston bouvet island (bouvetoya)   \n999686             eunachester slovakia (slovak republic)   \n999687                     murltown palestinian territory   \n999699         buck democratic people's republic of korea   \n999704                                            moldova   \n999713                                        isle of man   \n999726          scottieshire svalbard & jan mayen islands   \n999742                             virgin islands british   \n999767                   elijah bouvet island (bouvetoya)   \n999770                                   ricoburgh jersey   \n999783                   sam svalbard & jan mayen islands   \n999794                                rey kyrgyz republic   \n999811                       svalbard & jan mayen islands   \n999819  annabellberg antarctica (the territory south o...   \n999824                          reinhold pitcairn islands   \n999833                           noeton republic of korea   \n999847                                               iran   \n999866                       nedra virgin islands british   \n999867                                   piperland taiwan   \n999874                                   pitcairn islands   \n999875                              susanaview kazakhstan   \n999883              berniece svalbard & jan mayen islands   \n999910                                 deliaport guernsey   \n999931                                         kazakhstan   \n999951                                               iran   \n999960                          lilymouth kyrgyz republic   \n999974                               chynaberg kazakhstan   \n999980                                 rosalee kazakhstan   \n999984                             hattie kyrgyz republic   \n\n                                 Candidate_Country_3  \\\n3                                                      \n5                                             taiwan   \n18                                                     \n32             democratic people's republic of korea   \n36                                        barthelemy   \n41                                   islands british   \n45                                                     \n63                                  saint barthelemy   \n64                                                     \n78                               virgin islands u.s.   \n103                                 pitcairn islands   \n107                                                    \n109      indian ocean territory (chagos archipelago)   \n111                                                    \n124                                          moldova   \n138                     svalbard & jan mayen islands   \n141                                                    \n146            democratic people's republic of korea   \n157                                           of man   \n161     antarctica (the territory south of 60 deg s)   \n164                         united states of america   \n171      indian ocean territory (chagos archipelago)   \n198                                            macao   \n199                                (slovak republic)   \n201                                     islands u.s.   \n210                                          vietnam   \n230                                             iran   \n234                       slovakia (slovak republic)   \n246                                       micronesia   \n259     antarctica (the territory south of 60 deg s)   \n...                                              ...   \n999676                                                 \n999679                     bouvet island (bouvetoya)   \n999686                    slovakia (slovak republic)   \n999687                         palestinian territory   \n999699         democratic people's republic of korea   \n999704                                                 \n999713                                        of man   \n999726                  svalbard & jan mayen islands   \n999742                               islands british   \n999767                     bouvet island (bouvetoya)   \n999770                                        jersey   \n999783                  svalbard & jan mayen islands   \n999794                               kyrgyz republic   \n999811                           & jan mayen islands   \n999819  antarctica (the territory south of 60 deg s)   \n999824                              pitcairn islands   \n999833                             republic of korea   \n999847                                                 \n999866                        virgin islands british   \n999867                                        taiwan   \n999874                                       islands   \n999875                                    kazakhstan   \n999883                  svalbard & jan mayen islands   \n999910                                      guernsey   \n999931                                                 \n999951                                                 \n999960                               kyrgyz republic   \n999974                                    kazakhstan   \n999980                                    kazakhstan   \n999984                               kyrgyz republic   \n\n                         Candidate_Country_4  \n3                                             \n5                                             \n18                                            \n32                people's republic of korea  \n36                                            \n41                                   british  \n45                                            \n63                                barthelemy  \n64                                            \n78                              islands u.s.  \n103                                  islands  \n107                                           \n109     ocean territory (chagos archipelago)  \n111                                           \n124                                           \n138                      & jan mayen islands  \n141                                           \n146               people's republic of korea  \n157                                      man  \n161        (the territory south of 60 deg s)  \n164                        states of america  \n171     ocean territory (chagos archipelago)  \n198                                           \n199                                republic)  \n201                                     u.s.  \n210                                           \n230                                           \n234                        (slovak republic)  \n246                                           \n259        (the territory south of 60 deg s)  \n...                                      ...  \n999676                                        \n999679                    island (bouvetoya)  \n999686                     (slovak republic)  \n999687                             territory  \n999699            people's republic of korea  \n999704                                        \n999713                                   man  \n999726                   & jan mayen islands  \n999742                               british  \n999767                    island (bouvetoya)  \n999770                                        \n999783                   & jan mayen islands  \n999794                              republic  \n999811                     jan mayen islands  \n999819     (the territory south of 60 deg s)  \n999824                               islands  \n999833                              of korea  \n999847                                        \n999866                       islands british  \n999867                                        \n999874                                        \n999875                                        \n999883                   & jan mayen islands  \n999910                                        \n999931                                        \n999951                                        \n999960                              republic  \n999974                                        \n999980                                        \n999984                              republic  \n\n[116303 rows x 17 columns]"
          },
          "execution_count": 71,
          "metadata": {}
        }
      ],
      "metadata": {},
      "source": [
        "temp2[temp2['Address_Country'].isnull()]"
      ],
      "attachments": {}
    },
    {
      "cell_type": "code",
      "execution_count": 63,
      "outputs": [
        {
          "output_type": "execute_result",
          "data": {
            "text/plain": "['afghanistan', 'albania', 'algeria', 'american samoa', 'andorra', 'angola', 'anguilla', 'antarctica', 'antigua and barbuda', 'argentina', 'armenia', 'aruba', 'australia', 'austria', 'azerbaijan', 'bahamas', 'bahrain', 'bangladesh', 'barbados', 'belarus', 'belgium', 'belize', 'benin', 'bermuda', 'bhutan', 'bolivia', 'bosnia and herzegovina', 'botswana', 'bouvet island', 'brazil', 'british indian ocean territory', 'brunei darussalam', 'bulgaria', 'burkina faso', 'burundi', 'cambodia', 'cameroon', 'canada', 'cape verde', 'cayman islands', 'central african republic', 'chad', 'chile', 'china', 'christmas island', 'cocos (keeling) islands', 'colombia', 'comoros', 'congo', 'congo, the democratic republic of the', 'cook islands', 'costa rica', \"cote d'ivoire\", 'croatia', 'cuba', 'cyprus', 'czech republic', 'denmark', 'djibouti', 'dominica', 'dominican republic', 'east timor', 'ecuador', 'egypt', 'el salvador', 'equatorial guinea', 'eritrea', 'estonia', 'ethiopia', 'falkland islands (malvinas)', 'faroe islands', 'fiji', 'finland', 'france', 'french guiana', 'french polynesia', 'french southern territories', 'gabon', 'gambia', 'georgia', 'germany', 'ghana', 'gibraltar', 'greece', 'greenland', 'grenada', 'guadeloupe', 'guam', 'guatemala', 'guinea', 'guinea-bissau', 'guyana', 'haiti', 'heard island and mcdonald islands', 'holy see (vatican city state)', 'honduras', 'hong kong', 'hungary', 'iceland', 'india', 'indonesia', 'iran, islamic republic of', 'iraq', 'ireland', 'israel', 'italy', 'jamaica', 'japan', 'jordan', 'kazakstan', 'kenya', 'kiribati', \"korea, democratic people's republic of\", 'korea, republic of', 'kosovo', 'kuwait', 'kyrgyzstan', \"lao people's democratic republic\", 'latvia', 'lebanon', 'lesotho', 'liberia', 'libyan arab jamahiriya', 'liechtenstein', 'lithuania', 'luxembourg', 'macau', 'macedonia, the former yugoslav republic of', 'madagascar', 'malawi', 'malaysia', 'maldives', 'mali', 'malta', 'marshall islands', 'martinique', 'mauritania', 'mauritius', 'mayotte', 'mexico', 'micronesia, federated states of', 'moldova, republic of', 'monaco', 'mongolia', 'montenegro', 'montserrat', 'morocco', 'mozambique', 'myanmar', 'namibia', 'nauru', 'nepal', 'netherlands', 'netherlands antilles', 'new caledonia', 'new zealand', 'nicaragua', 'niger', 'nigeria', 'niue', 'norfolk island', 'northern mariana islands', 'norway', 'oman', 'pakistan', 'palau', 'palestinian territory, occupied', 'panama', 'papua new guinea', 'paraguay', 'peru', 'philippines', 'pitcairn', 'poland', 'portugal', 'puerto rico', 'qatar', 'reunion', 'romania', 'russian federation', 'rwanda', 'saint helena', 'saint kitts and nevis', 'saint lucia', 'saint pierre and miquelon', 'saint vincent and the grenadines', 'samoa', 'san marino', 'sao tome and principe', 'saudi arabia', 'senegal', 'serbia', 'seychelles', 'sierra leone', 'singapore', 'slovakia', 'slovenia', 'solomon islands', 'somalia', 'south africa', 'south georgia and the south sandwich islands', 'spain', 'sri lanka', 'sudan', 'suriname', 'svalbard and jan mayen', 'swaziland', 'sweden', 'switzerland', 'syrian arab republic', 'taiwan, province of china', 'tajikistan', 'tanzania, united republic of', 'thailand', 'togo', 'tokelau', 'tonga', 'trinidad and tobago', 'tunisia', 'turkey', 'turkmenistan', 'turks and caicos islands', 'tuvalu', 'uganda', 'ukraine', 'united arab emirates', 'united kingdom', 'united states', 'united states minor outlying islands', 'uruguay', 'uzbekistan', 'vanuatu', 'venezuela', 'viet nam', 'virgin islands, british', 'virgin islands, u.s.', 'wallis and futuna', 'western sahara', 'yemen', 'zambia', 'zimbabwe']"
          },
          "execution_count": 63,
          "metadata": {}
        }
      ],
      "metadata": {},
      "source": [
        "country_list.sort()\n",
        "country_list"
      ],
      "attachments": {}
    },
    {
      "cell_type": "code",
      "execution_count": 70,
      "outputs": [],
      "metadata": {},
      "source": [
        "country_list.append('taiwan')"
      ],
      "attachments": {}
    },
    {
      "cell_type": "code",
      "execution_count": 31,
      "outputs": [
        {
          "output_type": "execute_result",
          "data": {
            "text/plain": "0                1               2      3          4      5    6  \\\n117                  East     Fabianville  South    Georgia    and  the   \n294                  Lake      Bartonberg  South    Georgia    and  the   \n458                 North            Myah  South    Georgia    and  the   \n596           Wisokyshire      Antarctica   (the  territory  South   of   \n748                  West      Wernerside  South    Georgia    and  the   \n1245                 West      Electafort  South    Georgia    and  the   \n1282                South          Lenora  South    Georgia    and  the   \n1292          Assuntaland      Antarctica   (the  territory  South   of   \n1418            Bayertown      Antarctica   (the  territory  South   of   \n1470          Jaylinmouth      Antarctica   (the  territory  South   of   \n1535                 Port         Damaris  South    Georgia    and  the   \n1588           Vernieland      Antarctica   (the  territory  South   of   \n1819                North       Jacquelyn  South    Georgia    and  the   \n2011           Derickstad      Antarctica   (the  territory  South   of   \n2330                South          Lenora  South    Georgia    and  the   \n2406                 West          Walton  South    Georgia    and  the   \n2429          Douglasfurt      Antarctica   (the  territory  South   of   \n2460                  New          Creola  South    Georgia    and  the   \n2731                 Port    Ernestoburgh  South    Georgia    and  the   \n3668                 West         Claudie  South    Georgia    and  the   \n3911          Stephenbury      Antarctica   (the  territory  South   of   \n4089              Ovaview      Antarctica   (the  territory  South   of   \n4425                 Port         Laverna  South    Georgia    and  the   \n4920                 East      Marielaton  South    Georgia    and  the   \n5139                North     Celinehaven  South    Georgia    and  the   \n5478                  New  Carolanneshire  South    Georgia    and  the   \n6298           Thomasfurt      Antarctica   (the  territory  South   of   \n6543                North             Coy  South    Georgia    and  the   \n6578                 Lake         Ovafort  South    Georgia    and  the   \n6693                 East     Fabianville  South    Georgia    and  the   \n...    ..             ...             ...    ...        ...    ...  ...   \n993388              North        Zitaview  South    Georgia    and  the   \n993439               East      Beulahport  South    Georgia    and  the   \n993481         Boganshire      Antarctica   (the  territory  South   of   \n993505              South       Dovieberg  South    Georgia    and  the   \n993522         Feestmouth      Antarctica   (the  territory  South   of   \n993693              South          Newton  South    Georgia    and  the   \n994109       Kilbackhaven      Antarctica   (the  territory  South   of   \n994263     Gusikowskiberg      Antarctica   (the  territory  South   of   \n995535               West      Masonmouth  South    Georgia    and  the   \n995972          Sallyfurt      Antarctica   (the  territory  South   of   \n995991          Isaacview      Antarctica   (the  territory  South   of   \n996087         Grahamview      Antarctica   (the  territory  South   of   \n996152               East      Beulahport  South    Georgia    and  the   \n996463               Port          Justus  South    Georgia    and  the   \n996487               Port         Michael  South    Georgia    and  the   \n996875         Zettamouth      Antarctica   (the  territory  South   of   \n997408            Danview      Antarctica   (the  territory  South   of   \n997445          Isaacview      Antarctica   (the  territory  South   of   \n997652          Daijafort      Antarctica   (the  territory  South   of   \n997941          Kielhaven      Antarctica   (the  territory  South   of   \n998340        Whitneytown      Antarctica   (the  territory  South   of   \n998547     Gusikowskiberg      Antarctica   (the  territory  South   of   \n998912              North      Aliyahberg  South    Georgia    and  the   \n999169               Lake         Vicenta  South    Georgia    and  the   \n999195               West     Harmonshire  South    Georgia    and  the   \n999405      Hettingerview      Antarctica   (the  territory  South   of   \n999426               Lake          Markus  South    Georgia    and  the   \n999639       Jerroldburgh      Antarctica   (the  territory  South   of   \n999755               West      Electafort  South    Georgia    and  the   \n999820              South            Paul  South    Georgia    and  the   \n\n            7         8        9    10 Address_City Address_Country  \n117     South  Sandwich  Islands  None         None            None  \n294     South  Sandwich  Islands  None         None            None  \n458     South  Sandwich  Islands  None         None            None  \n596        60       deg       S)  None         None            None  \n748     South  Sandwich  Islands  None         None            None  \n1245    South  Sandwich  Islands  None         None            None  \n1282    South  Sandwich  Islands  None         None            None  \n1292       60       deg       S)  None         None            None  \n1418       60       deg       S)  None         None            None  \n1470       60       deg       S)  None         None            None  \n1535    South  Sandwich  Islands  None         None            None  \n1588       60       deg       S)  None         None            None  \n1819    South  Sandwich  Islands  None         None            None  \n2011       60       deg       S)  None         None            None  \n2330    South  Sandwich  Islands  None         None            None  \n2406    South  Sandwich  Islands  None         None            None  \n2429       60       deg       S)  None         None            None  \n2460    South  Sandwich  Islands  None         None            None  \n2731    South  Sandwich  Islands  None         None            None  \n3668    South  Sandwich  Islands  None         None            None  \n3911       60       deg       S)  None         None            None  \n4089       60       deg       S)  None         None            None  \n4425    South  Sandwich  Islands  None         None            None  \n4920    South  Sandwich  Islands  None         None            None  \n5139    South  Sandwich  Islands  None         None            None  \n5478    South  Sandwich  Islands  None         None            None  \n6298       60       deg       S)  None         None            None  \n6543    South  Sandwich  Islands  None         None            None  \n6578    South  Sandwich  Islands  None         None            None  \n6693    South  Sandwich  Islands  None         None            None  \n...       ...       ...      ...   ...          ...             ...  \n993388  South  Sandwich  Islands  None         None            None  \n993439  South  Sandwich  Islands  None         None            None  \n993481     60       deg       S)  None         None            None  \n993505  South  Sandwich  Islands  None         None            None  \n993522     60       deg       S)  None         None            None  \n993693  South  Sandwich  Islands  None         None            None  \n994109     60       deg       S)  None         None            None  \n994263     60       deg       S)  None         None            None  \n995535  South  Sandwich  Islands  None         None            None  \n995972     60       deg       S)  None         None            None  \n995991     60       deg       S)  None         None            None  \n996087     60       deg       S)  None         None            None  \n996152  South  Sandwich  Islands  None         None            None  \n996463  South  Sandwich  Islands  None         None            None  \n996487  South  Sandwich  Islands  None         None            None  \n996875     60       deg       S)  None         None            None  \n997408     60       deg       S)  None         None            None  \n997445     60       deg       S)  None         None            None  \n997652     60       deg       S)  None         None            None  \n997941     60       deg       S)  None         None            None  \n998340     60       deg       S)  None         None            None  \n998547     60       deg       S)  None         None            None  \n998912  South  Sandwich  Islands  None         None            None  \n999169  South  Sandwich  Islands  None         None            None  \n999195  South  Sandwich  Islands  None         None            None  \n999405     60       deg       S)  None         None            None  \n999426  South  Sandwich  Islands  None         None            None  \n999639     60       deg       S)  None         None            None  \n999755  South  Sandwich  Islands  None         None            None  \n999820  South  Sandwich  Islands  None         None            None  \n\n[4204 rows x 13 columns]"
          },
          "execution_count": 31,
          "metadata": {}
        }
      ],
      "metadata": {},
      "source": [
        "temp2[(~temp2[9].isnull()) & (temp2['Address_City'].isnull())]"
      ],
      "attachments": {}
    },
    {
      "cell_type": "code",
      "execution_count": 34,
      "outputs": [
        {
          "output_type": "execute_result",
          "data": {
            "text/plain": "0       1               2           3     4          5      6   7   8  \\\n161        North    Rhiannonside  Antarctica  (the  territory  South  of  60   \n259         West          Colten  Antarctica  (the  territory  South  of  60   \n266        South           Hilma  Antarctica  (the  territory  South  of  60   \n293         West         Toystad  Antarctica  (the  territory  South  of  60   \n566         East         Madalyn  Antarctica  (the  territory  South  of  60   \n1320        Port        Hankfurt  Antarctica  (the  territory  South  of  60   \n1321        West     Marquestown  Antarctica  (the  territory  South  of  60   \n1480       North         Darrion  Antarctica  (the  territory  South  of  60   \n2063        Port        Hankfurt  Antarctica  (the  territory  South  of  60   \n2139        East     Thereseside  Antarctica  (the  territory  South  of  60   \n2263        Lake  Alexandroburgh  Antarctica  (the  territory  South  of  60   \n2682       South       Pearlfurt  Antarctica  (the  territory  South  of  60   \n2720       North            Kaia  Antarctica  (the  territory  South  of  60   \n3150       North       Donnyland  Antarctica  (the  territory  South  of  60   \n3418       South          Khalid  Antarctica  (the  territory  South  of  60   \n3429        West        Erinfort  Antarctica  (the  territory  South  of  60   \n3733        Port         Manuela  Antarctica  (the  territory  South  of  60   \n4041        East   Salvatoreport  Antarctica  (the  territory  South  of  60   \n4207        Lake         Donnell  Antarctica  (the  territory  South  of  60   \n4311         New          Jammie  Antarctica  (the  territory  South  of  60   \n4585       South     Armandmouth  Antarctica  (the  territory  South  of  60   \n4752        Lake  Alexandroburgh  Antarctica  (the  territory  South  of  60   \n4998        East     Micaelatown  Antarctica  (the  territory  South  of  60   \n5061        East     Nataliaview  Antarctica  (the  territory  South  of  60   \n5716        West          Murphy  Antarctica  (the  territory  South  of  60   \n5963        Port          Flavio  Antarctica  (the  territory  South  of  60   \n6020       North            Macy  Antarctica  (the  territory  South  of  60   \n6169        West     Marquestown  Antarctica  (the  territory  South  of  60   \n6406        Port     Heatherfort  Antarctica  (the  territory  South  of  60   \n6911       North            Kaia  Antarctica  (the  territory  South  of  60   \n...    ..    ...             ...         ...   ...        ...    ...  ..  ..   \n983946      East         Damaris  Antarctica  (the  territory  South  of  60   \n984455      West          Jarred  Antarctica  (the  territory  South  of  60   \n984645      West          Jarred  Antarctica  (the  territory  South  of  60   \n985809     South    Stefanietown  Antarctica  (the  territory  South  of  60   \n985871      West      Emelieview  Antarctica  (the  territory  South  of  60   \n985995      Lake  Alexandroburgh  Antarctica  (the  territory  South  of  60   \n986197      Port    Laceychester  Antarctica  (the  territory  South  of  60   \n987134      East         Abagail  Antarctica  (the  territory  South  of  60   \n987696       New       Tommieton  Antarctica  (the  territory  South  of  60   \n987904       New  Gabrielleville  Antarctica  (the  territory  South  of  60   \n987909       New       Tommieton  Antarctica  (the  territory  South  of  60   \n988868      Port          Eloise  Antarctica  (the  territory  South  of  60   \n989167     North          Ansley  Antarctica  (the  territory  South  of  60   \n989572       New          Marvin  Antarctica  (the  territory  South  of  60   \n990280     North      Vilmamouth  Antarctica  (the  territory  South  of  60   \n990625     South      Randalfort  Antarctica  (the  territory  South  of  60   \n992049     South          Leonie  Antarctica  (the  territory  South  of  60   \n992388       New        Geovanny  Antarctica  (the  territory  South  of  60   \n993109      Port    Albertoburgh  Antarctica  (the  territory  South  of  60   \n993977       New     Jamarcuston  Antarctica  (the  territory  South  of  60   \n995778     North          Ansley  Antarctica  (the  territory  South  of  60   \n995988     South       Aleneside  Antarctica  (the  territory  South  of  60   \n996064      Lake  Alexandroburgh  Antarctica  (the  territory  South  of  60   \n996586       New    Laurettaside  Antarctica  (the  territory  South  of  60   \n996685     South     Xanderhaven  Antarctica  (the  territory  South  of  60   \n996901      West          Jarred  Antarctica  (the  territory  South  of  60   \n997399      Lake  Alexandroburgh  Antarctica  (the  territory  South  of  60   \n998655      East         Abagail  Antarctica  (the  territory  South  of  60   \n999196     South           Hilma  Antarctica  (the  territory  South  of  60   \n999819      Lake    Annabellberg  Antarctica  (the  territory  South  of  60   \n\n          9  10         Address_City  \\\n161     deg  S)   North Rhiannonside   \n259     deg  S)          West Colten   \n266     deg  S)          South Hilma   \n293     deg  S)         West Toystad   \n566     deg  S)         East Madalyn   \n1320    deg  S)        Port Hankfurt   \n1321    deg  S)     West Marquestown   \n1480    deg  S)        North Darrion   \n2063    deg  S)        Port Hankfurt   \n2139    deg  S)     East Thereseside   \n2263    deg  S)  Lake Alexandroburgh   \n2682    deg  S)      South Pearlfurt   \n2720    deg  S)           North Kaia   \n3150    deg  S)      North Donnyland   \n3418    deg  S)         South Khalid   \n3429    deg  S)        West Erinfort   \n3733    deg  S)         Port Manuela   \n4041    deg  S)   East Salvatoreport   \n4207    deg  S)         Lake Donnell   \n4311    deg  S)           New Jammie   \n4585    deg  S)    South Armandmouth   \n4752    deg  S)  Lake Alexandroburgh   \n4998    deg  S)     East Micaelatown   \n5061    deg  S)     East Nataliaview   \n5716    deg  S)          West Murphy   \n5963    deg  S)          Port Flavio   \n6020    deg  S)           North Macy   \n6169    deg  S)     West Marquestown   \n6406    deg  S)     Port Heatherfort   \n6911    deg  S)           North Kaia   \n...     ...  ..                  ...   \n983946  deg  S)         East Damaris   \n984455  deg  S)          West Jarred   \n984645  deg  S)          West Jarred   \n985809  deg  S)   South Stefanietown   \n985871  deg  S)      West Emelieview   \n985995  deg  S)  Lake Alexandroburgh   \n986197  deg  S)    Port Laceychester   \n987134  deg  S)         East Abagail   \n987696  deg  S)        New Tommieton   \n987904  deg  S)   New Gabrielleville   \n987909  deg  S)        New Tommieton   \n988868  deg  S)          Port Eloise   \n989167  deg  S)         North Ansley   \n989572  deg  S)           New Marvin   \n990280  deg  S)     North Vilmamouth   \n990625  deg  S)     South Randalfort   \n992049  deg  S)         South Leonie   \n992388  deg  S)         New Geovanny   \n993109  deg  S)    Port Albertoburgh   \n993977  deg  S)      New Jamarcuston   \n995778  deg  S)         North Ansley   \n995988  deg  S)      South Aleneside   \n996064  deg  S)  Lake Alexandroburgh   \n996586  deg  S)     New Laurettaside   \n996685  deg  S)    South Xanderhaven   \n996901  deg  S)          West Jarred   \n997399  deg  S)  Lake Alexandroburgh   \n998655  deg  S)         East Abagail   \n999196  deg  S)          South Hilma   \n999819  deg  S)    Lake Annabellberg   \n\n                                     Address_Country  \n161     Antarctica (the territory South of 60 deg S)  \n259     Antarctica (the territory South of 60 deg S)  \n266     Antarctica (the territory South of 60 deg S)  \n293     Antarctica (the territory South of 60 deg S)  \n566     Antarctica (the territory South of 60 deg S)  \n1320    Antarctica (the territory South of 60 deg S)  \n1321    Antarctica (the territory South of 60 deg S)  \n1480    Antarctica (the territory South of 60 deg S)  \n2063    Antarctica (the territory South of 60 deg S)  \n2139    Antarctica (the territory South of 60 deg S)  \n2263    Antarctica (the territory South of 60 deg S)  \n2682    Antarctica (the territory South of 60 deg S)  \n2720    Antarctica (the territory South of 60 deg S)  \n3150    Antarctica (the territory South of 60 deg S)  \n3418    Antarctica (the territory South of 60 deg S)  \n3429    Antarctica (the territory South of 60 deg S)  \n3733    Antarctica (the territory South of 60 deg S)  \n4041    Antarctica (the territory South of 60 deg S)  \n4207    Antarctica (the territory South of 60 deg S)  \n4311    Antarctica (the territory South of 60 deg S)  \n4585    Antarctica (the territory South of 60 deg S)  \n4752    Antarctica (the territory South of 60 deg S)  \n4998    Antarctica (the territory South of 60 deg S)  \n5061    Antarctica (the territory South of 60 deg S)  \n5716    Antarctica (the territory South of 60 deg S)  \n5963    Antarctica (the territory South of 60 deg S)  \n6020    Antarctica (the territory South of 60 deg S)  \n6169    Antarctica (the territory South of 60 deg S)  \n6406    Antarctica (the territory South of 60 deg S)  \n6911    Antarctica (the territory South of 60 deg S)  \n...                                              ...  \n983946  Antarctica (the territory South of 60 deg S)  \n984455  Antarctica (the territory South of 60 deg S)  \n984645  Antarctica (the territory South of 60 deg S)  \n985809  Antarctica (the territory South of 60 deg S)  \n985871  Antarctica (the territory South of 60 deg S)  \n985995  Antarctica (the territory South of 60 deg S)  \n986197  Antarctica (the territory South of 60 deg S)  \n987134  Antarctica (the territory South of 60 deg S)  \n987696  Antarctica (the territory South of 60 deg S)  \n987904  Antarctica (the territory South of 60 deg S)  \n987909  Antarctica (the territory South of 60 deg S)  \n988868  Antarctica (the territory South of 60 deg S)  \n989167  Antarctica (the territory South of 60 deg S)  \n989572  Antarctica (the territory South of 60 deg S)  \n990280  Antarctica (the territory South of 60 deg S)  \n990625  Antarctica (the territory South of 60 deg S)  \n992049  Antarctica (the territory South of 60 deg S)  \n992388  Antarctica (the territory South of 60 deg S)  \n993109  Antarctica (the territory South of 60 deg S)  \n993977  Antarctica (the territory South of 60 deg S)  \n995778  Antarctica (the territory South of 60 deg S)  \n995988  Antarctica (the territory South of 60 deg S)  \n996064  Antarctica (the territory South of 60 deg S)  \n996586  Antarctica (the territory South of 60 deg S)  \n996685  Antarctica (the territory South of 60 deg S)  \n996901  Antarctica (the territory South of 60 deg S)  \n997399  Antarctica (the territory South of 60 deg S)  \n998655  Antarctica (the territory South of 60 deg S)  \n999196  Antarctica (the territory South of 60 deg S)  \n999819  Antarctica (the territory South of 60 deg S)  \n\n[2998 rows x 13 columns]"
          },
          "execution_count": 34,
          "metadata": {}
        }
      ],
      "metadata": {},
      "source": [
        "temp2[~temp2['Address_City'].isnull()]"
      ],
      "attachments": {}
    }
  ]
}